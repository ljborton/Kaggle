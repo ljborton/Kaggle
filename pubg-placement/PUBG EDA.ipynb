{
 "cells": [
  {
   "cell_type": "markdown",
   "metadata": {},
   "source": [
    "## A quick look at the data\n",
    "\n",
    "The data looks very straightforward for this project. The goal is to predict winPlacePerc, a percentile score where 1 = winning player/team and 0 = the last-place player/team.\n",
    "\n",
    "I made a correlation heatmap. killPlace is highly correlated with winPlacePerc, and many other features.\n",
    "\n",
    "I ran a few simple regression models on the raw data. GradientBoostingRegressor performs better (R2 = 0.87) than Ridge[Linear Regressor] (R2 = 0.79) but runs significantly more slowly (GBR: 7 mins, Ridge: 1 min). Consider running Ridge or even LinearRegression for quick evaluation of engineered features.\n",
    "\n",
    "### TODO: Feature Engineering (in a new file)\n",
    "\n",
    "## Data fields\n",
    "\n",
    "    DBNOs (Down-But-Not-Outs) - Number of enemy players knocked down.\n",
    "    assists - Number of enemy players this player damaged that were killed by teammates.\n",
    "    boosts - Number of boost items used.\n",
    "    damageDealt - Total damage dealt. Note: Self inflicted damage is subtracted.\n",
    "    headshotKills - Number of enemy players killed with headshots.\n",
    "    heals - Number of healing items used.\n",
    "    killPlace - Ranking in match of number of enemy players killed.\n",
    "    killPoints - Kills-based external ranking of player. (Think of this as an Elo ranking where only kills matter.)\n",
    "    killStreaks - Max number of enemy players killed in a short amount of time.\n",
    "    kills - Number of enemy players killed.\n",
    "    longestKill - Longest distance between player and player killed at time of death. This may be misleading, as downing a player and driving away may lead to a large longestKill stat.\n",
    "    matchId - Integer ID to identify match. There are no matches that are in both the training and testing set.\n",
    "    revives - Number of times this player revived teammates.\n",
    "    rideDistance - Total distance traveled in vehicles measured in meters.\n",
    "    roadKills - Number of kills while in a vehicle.\n",
    "    swimDistance - Total distance traveled by swimming measured in meters.\n",
    "    teamKills - Number of times this player killed a teammate.\n",
    "    vehicleDestroys - Number of vehicles destroyed.\n",
    "    walkDistance - Total distance traveled on foot measured in meters.\n",
    "    weaponsAcquired - Number of weapons picked up.\n",
    "    winPoints - Win-based external ranking of player. (Think of this as an Elo ranking where only winning matters.)\n",
    "    groupId - Integer ID to identify a group within a match. If the same group of players plays in different matches, they will have a different groupId each time.\n",
    "    numGroups - Number of groups we have data for in the match.\n",
    "    maxPlace - Worst placement we have data for in the match. This may not match with numGroups, as sometimes the data skips over placements.\n",
    "    winPlacePerc - The target of prediction. This is a percentile winning placement, where 1 corresponds to 1st place, and 0 corresponds to last place in the match. It is calculated off of maxPlace, not numGroups, so it is possible to have missing chunks in a match."
   ]
  },
  {
   "cell_type": "code",
   "execution_count": 27,
   "metadata": {},
   "outputs": [],
   "source": [
    "import pandas as pd\n",
    "import matplotlib.pyplot as plt\n",
    "import seaborn as sns\n",
    "from sklearn.linear_model import Ridge\n",
    "from sklearn.model_selection import train_test_split\n",
    "import timeit\n",
    "import datetime\n",
    "from sklearn.ensemble import GradientBoostingRegressor\n",
    "from xgboost import XGBRegressor\n",
    "\n",
    "pd.options.display.max_columns = None"
   ]
  },
  {
   "cell_type": "code",
   "execution_count": 5,
   "metadata": {},
   "outputs": [],
   "source": [
    "#df = pd.read_csv('data/train.csv', nrows=1870000)\n",
    "df = pd.read_csv('data/train.csv')"
   ]
  },
  {
   "cell_type": "code",
   "execution_count": 6,
   "metadata": {},
   "outputs": [
    {
     "name": "stdout",
     "output_type": "stream",
     "text": [
      "<class 'pandas.core.frame.DataFrame'>\n",
      "RangeIndex: 4357336 entries, 0 to 4357335\n",
      "Data columns (total 26 columns):\n",
      "Id                 int64\n",
      "groupId            int64\n",
      "matchId            int64\n",
      "assists            int64\n",
      "boosts             int64\n",
      "damageDealt        float64\n",
      "DBNOs              int64\n",
      "headshotKills      int64\n",
      "heals              int64\n",
      "killPlace          int64\n",
      "killPoints         int64\n",
      "kills              int64\n",
      "killStreaks        int64\n",
      "longestKill        float64\n",
      "maxPlace           int64\n",
      "numGroups          int64\n",
      "revives            int64\n",
      "rideDistance       float64\n",
      "roadKills          int64\n",
      "swimDistance       float64\n",
      "teamKills          int64\n",
      "vehicleDestroys    int64\n",
      "walkDistance       float64\n",
      "weaponsAcquired    int64\n",
      "winPoints          int64\n",
      "winPlacePerc       float64\n",
      "dtypes: float64(6), int64(20)\n",
      "memory usage: 864.3 MB\n"
     ]
    }
   ],
   "source": [
    "df.info()"
   ]
  },
  {
   "cell_type": "code",
   "execution_count": 11,
   "metadata": {},
   "outputs": [
    {
     "data": {
      "text/html": [
       "<div>\n",
       "<style scoped>\n",
       "    .dataframe tbody tr th:only-of-type {\n",
       "        vertical-align: middle;\n",
       "    }\n",
       "\n",
       "    .dataframe tbody tr th {\n",
       "        vertical-align: top;\n",
       "    }\n",
       "\n",
       "    .dataframe thead th {\n",
       "        text-align: right;\n",
       "    }\n",
       "</style>\n",
       "<table border=\"1\" class=\"dataframe\">\n",
       "  <thead>\n",
       "    <tr style=\"text-align: right;\">\n",
       "      <th></th>\n",
       "      <th>Id</th>\n",
       "      <th>groupId</th>\n",
       "      <th>matchId</th>\n",
       "      <th>assists</th>\n",
       "      <th>boosts</th>\n",
       "      <th>damageDealt</th>\n",
       "      <th>DBNOs</th>\n",
       "      <th>headshotKills</th>\n",
       "      <th>heals</th>\n",
       "      <th>killPlace</th>\n",
       "      <th>killPoints</th>\n",
       "      <th>kills</th>\n",
       "      <th>killStreaks</th>\n",
       "      <th>longestKill</th>\n",
       "      <th>maxPlace</th>\n",
       "      <th>numGroups</th>\n",
       "      <th>revives</th>\n",
       "      <th>rideDistance</th>\n",
       "      <th>roadKills</th>\n",
       "      <th>swimDistance</th>\n",
       "      <th>teamKills</th>\n",
       "      <th>vehicleDestroys</th>\n",
       "      <th>walkDistance</th>\n",
       "      <th>weaponsAcquired</th>\n",
       "      <th>winPoints</th>\n",
       "      <th>winPlacePerc</th>\n",
       "    </tr>\n",
       "  </thead>\n",
       "  <tbody>\n",
       "    <tr>\n",
       "      <th>0</th>\n",
       "      <td>0</td>\n",
       "      <td>24</td>\n",
       "      <td>0</td>\n",
       "      <td>0</td>\n",
       "      <td>5</td>\n",
       "      <td>247.30</td>\n",
       "      <td>2</td>\n",
       "      <td>0</td>\n",
       "      <td>4</td>\n",
       "      <td>17</td>\n",
       "      <td>1050</td>\n",
       "      <td>2</td>\n",
       "      <td>1</td>\n",
       "      <td>65.320</td>\n",
       "      <td>29</td>\n",
       "      <td>28</td>\n",
       "      <td>1</td>\n",
       "      <td>591.3</td>\n",
       "      <td>0</td>\n",
       "      <td>0.0000</td>\n",
       "      <td>0</td>\n",
       "      <td>0</td>\n",
       "      <td>782.40</td>\n",
       "      <td>4</td>\n",
       "      <td>1458</td>\n",
       "      <td>0.8571</td>\n",
       "    </tr>\n",
       "    <tr>\n",
       "      <th>1</th>\n",
       "      <td>1</td>\n",
       "      <td>440875</td>\n",
       "      <td>1</td>\n",
       "      <td>1</td>\n",
       "      <td>0</td>\n",
       "      <td>37.65</td>\n",
       "      <td>1</td>\n",
       "      <td>1</td>\n",
       "      <td>0</td>\n",
       "      <td>45</td>\n",
       "      <td>1072</td>\n",
       "      <td>1</td>\n",
       "      <td>1</td>\n",
       "      <td>13.550</td>\n",
       "      <td>26</td>\n",
       "      <td>23</td>\n",
       "      <td>0</td>\n",
       "      <td>0.0</td>\n",
       "      <td>0</td>\n",
       "      <td>0.0000</td>\n",
       "      <td>0</td>\n",
       "      <td>0</td>\n",
       "      <td>119.60</td>\n",
       "      <td>3</td>\n",
       "      <td>1511</td>\n",
       "      <td>0.0400</td>\n",
       "    </tr>\n",
       "    <tr>\n",
       "      <th>2</th>\n",
       "      <td>2</td>\n",
       "      <td>878242</td>\n",
       "      <td>2</td>\n",
       "      <td>0</td>\n",
       "      <td>1</td>\n",
       "      <td>93.73</td>\n",
       "      <td>1</td>\n",
       "      <td>0</td>\n",
       "      <td>2</td>\n",
       "      <td>54</td>\n",
       "      <td>1404</td>\n",
       "      <td>0</td>\n",
       "      <td>0</td>\n",
       "      <td>0.000</td>\n",
       "      <td>28</td>\n",
       "      <td>28</td>\n",
       "      <td>1</td>\n",
       "      <td>0.0</td>\n",
       "      <td>0</td>\n",
       "      <td>0.0000</td>\n",
       "      <td>0</td>\n",
       "      <td>0</td>\n",
       "      <td>3248.00</td>\n",
       "      <td>5</td>\n",
       "      <td>1583</td>\n",
       "      <td>0.7407</td>\n",
       "    </tr>\n",
       "    <tr>\n",
       "      <th>3</th>\n",
       "      <td>3</td>\n",
       "      <td>1319841</td>\n",
       "      <td>3</td>\n",
       "      <td>0</td>\n",
       "      <td>0</td>\n",
       "      <td>95.88</td>\n",
       "      <td>0</td>\n",
       "      <td>0</td>\n",
       "      <td>0</td>\n",
       "      <td>86</td>\n",
       "      <td>1069</td>\n",
       "      <td>0</td>\n",
       "      <td>0</td>\n",
       "      <td>0.000</td>\n",
       "      <td>97</td>\n",
       "      <td>94</td>\n",
       "      <td>0</td>\n",
       "      <td>0.0</td>\n",
       "      <td>0</td>\n",
       "      <td>0.0000</td>\n",
       "      <td>0</td>\n",
       "      <td>0</td>\n",
       "      <td>21.49</td>\n",
       "      <td>1</td>\n",
       "      <td>1489</td>\n",
       "      <td>0.1146</td>\n",
       "    </tr>\n",
       "    <tr>\n",
       "      <th>4</th>\n",
       "      <td>4</td>\n",
       "      <td>1757883</td>\n",
       "      <td>4</td>\n",
       "      <td>0</td>\n",
       "      <td>1</td>\n",
       "      <td>0.00</td>\n",
       "      <td>0</td>\n",
       "      <td>0</td>\n",
       "      <td>1</td>\n",
       "      <td>58</td>\n",
       "      <td>1034</td>\n",
       "      <td>0</td>\n",
       "      <td>0</td>\n",
       "      <td>0.000</td>\n",
       "      <td>47</td>\n",
       "      <td>41</td>\n",
       "      <td>0</td>\n",
       "      <td>0.0</td>\n",
       "      <td>0</td>\n",
       "      <td>0.0000</td>\n",
       "      <td>0</td>\n",
       "      <td>0</td>\n",
       "      <td>640.80</td>\n",
       "      <td>4</td>\n",
       "      <td>1475</td>\n",
       "      <td>0.5217</td>\n",
       "    </tr>\n",
       "    <tr>\n",
       "      <th>5</th>\n",
       "      <td>5</td>\n",
       "      <td>2200824</td>\n",
       "      <td>5</td>\n",
       "      <td>0</td>\n",
       "      <td>2</td>\n",
       "      <td>128.10</td>\n",
       "      <td>0</td>\n",
       "      <td>0</td>\n",
       "      <td>0</td>\n",
       "      <td>25</td>\n",
       "      <td>1000</td>\n",
       "      <td>1</td>\n",
       "      <td>1</td>\n",
       "      <td>27.300</td>\n",
       "      <td>96</td>\n",
       "      <td>96</td>\n",
       "      <td>0</td>\n",
       "      <td>2221.0</td>\n",
       "      <td>0</td>\n",
       "      <td>0.0000</td>\n",
       "      <td>0</td>\n",
       "      <td>0</td>\n",
       "      <td>1016.00</td>\n",
       "      <td>4</td>\n",
       "      <td>1500</td>\n",
       "      <td>0.9368</td>\n",
       "    </tr>\n",
       "    <tr>\n",
       "      <th>6</th>\n",
       "      <td>6</td>\n",
       "      <td>2568717</td>\n",
       "      <td>6</td>\n",
       "      <td>1</td>\n",
       "      <td>0</td>\n",
       "      <td>130.30</td>\n",
       "      <td>0</td>\n",
       "      <td>0</td>\n",
       "      <td>0</td>\n",
       "      <td>28</td>\n",
       "      <td>1037</td>\n",
       "      <td>1</td>\n",
       "      <td>1</td>\n",
       "      <td>5.954</td>\n",
       "      <td>44</td>\n",
       "      <td>40</td>\n",
       "      <td>0</td>\n",
       "      <td>721.7</td>\n",
       "      <td>0</td>\n",
       "      <td>0.0000</td>\n",
       "      <td>0</td>\n",
       "      <td>0</td>\n",
       "      <td>280.10</td>\n",
       "      <td>3</td>\n",
       "      <td>1495</td>\n",
       "      <td>0.3721</td>\n",
       "    </tr>\n",
       "    <tr>\n",
       "      <th>7</th>\n",
       "      <td>7</td>\n",
       "      <td>2612473</td>\n",
       "      <td>7</td>\n",
       "      <td>1</td>\n",
       "      <td>1</td>\n",
       "      <td>661.80</td>\n",
       "      <td>2</td>\n",
       "      <td>3</td>\n",
       "      <td>2</td>\n",
       "      <td>3</td>\n",
       "      <td>1148</td>\n",
       "      <td>5</td>\n",
       "      <td>2</td>\n",
       "      <td>36.640</td>\n",
       "      <td>46</td>\n",
       "      <td>46</td>\n",
       "      <td>0</td>\n",
       "      <td>0.0</td>\n",
       "      <td>0</td>\n",
       "      <td>0.0000</td>\n",
       "      <td>0</td>\n",
       "      <td>0</td>\n",
       "      <td>2617.00</td>\n",
       "      <td>4</td>\n",
       "      <td>1479</td>\n",
       "      <td>1.0000</td>\n",
       "    </tr>\n",
       "    <tr>\n",
       "      <th>8</th>\n",
       "      <td>8</td>\n",
       "      <td>2656377</td>\n",
       "      <td>8</td>\n",
       "      <td>0</td>\n",
       "      <td>3</td>\n",
       "      <td>94.72</td>\n",
       "      <td>0</td>\n",
       "      <td>0</td>\n",
       "      <td>5</td>\n",
       "      <td>50</td>\n",
       "      <td>1286</td>\n",
       "      <td>0</td>\n",
       "      <td>0</td>\n",
       "      <td>0.000</td>\n",
       "      <td>28</td>\n",
       "      <td>28</td>\n",
       "      <td>0</td>\n",
       "      <td>2963.0</td>\n",
       "      <td>0</td>\n",
       "      <td>28.9000</td>\n",
       "      <td>0</td>\n",
       "      <td>0</td>\n",
       "      <td>3139.00</td>\n",
       "      <td>5</td>\n",
       "      <td>1528</td>\n",
       "      <td>0.7037</td>\n",
       "    </tr>\n",
       "    <tr>\n",
       "      <th>9</th>\n",
       "      <td>9</td>\n",
       "      <td>2700597</td>\n",
       "      <td>9</td>\n",
       "      <td>0</td>\n",
       "      <td>0</td>\n",
       "      <td>137.60</td>\n",
       "      <td>0</td>\n",
       "      <td>0</td>\n",
       "      <td>0</td>\n",
       "      <td>81</td>\n",
       "      <td>1000</td>\n",
       "      <td>0</td>\n",
       "      <td>0</td>\n",
       "      <td>0.000</td>\n",
       "      <td>25</td>\n",
       "      <td>23</td>\n",
       "      <td>0</td>\n",
       "      <td>0.0</td>\n",
       "      <td>0</td>\n",
       "      <td>0.0000</td>\n",
       "      <td>0</td>\n",
       "      <td>0</td>\n",
       "      <td>238.70</td>\n",
       "      <td>3</td>\n",
       "      <td>1500</td>\n",
       "      <td>0.0417</td>\n",
       "    </tr>\n",
       "    <tr>\n",
       "      <th>10</th>\n",
       "      <td>10</td>\n",
       "      <td>45059</td>\n",
       "      <td>10</td>\n",
       "      <td>0</td>\n",
       "      <td>1</td>\n",
       "      <td>166.00</td>\n",
       "      <td>0</td>\n",
       "      <td>1</td>\n",
       "      <td>1</td>\n",
       "      <td>35</td>\n",
       "      <td>1000</td>\n",
       "      <td>1</td>\n",
       "      <td>1</td>\n",
       "      <td>31.130</td>\n",
       "      <td>98</td>\n",
       "      <td>96</td>\n",
       "      <td>0</td>\n",
       "      <td>0.0</td>\n",
       "      <td>0</td>\n",
       "      <td>0.0000</td>\n",
       "      <td>0</td>\n",
       "      <td>0</td>\n",
       "      <td>184.50</td>\n",
       "      <td>3</td>\n",
       "      <td>1500</td>\n",
       "      <td>0.4536</td>\n",
       "    </tr>\n",
       "    <tr>\n",
       "      <th>11</th>\n",
       "      <td>11</td>\n",
       "      <td>89377</td>\n",
       "      <td>11</td>\n",
       "      <td>0</td>\n",
       "      <td>0</td>\n",
       "      <td>219.10</td>\n",
       "      <td>0</td>\n",
       "      <td>0</td>\n",
       "      <td>0</td>\n",
       "      <td>63</td>\n",
       "      <td>1180</td>\n",
       "      <td>0</td>\n",
       "      <td>0</td>\n",
       "      <td>0.000</td>\n",
       "      <td>30</td>\n",
       "      <td>29</td>\n",
       "      <td>0</td>\n",
       "      <td>0.0</td>\n",
       "      <td>0</td>\n",
       "      <td>0.0000</td>\n",
       "      <td>0</td>\n",
       "      <td>0</td>\n",
       "      <td>1036.00</td>\n",
       "      <td>5</td>\n",
       "      <td>1533</td>\n",
       "      <td>0.4828</td>\n",
       "    </tr>\n",
       "    <tr>\n",
       "      <th>12</th>\n",
       "      <td>12</td>\n",
       "      <td>132815</td>\n",
       "      <td>12</td>\n",
       "      <td>0</td>\n",
       "      <td>1</td>\n",
       "      <td>196.50</td>\n",
       "      <td>0</td>\n",
       "      <td>0</td>\n",
       "      <td>0</td>\n",
       "      <td>18</td>\n",
       "      <td>1047</td>\n",
       "      <td>2</td>\n",
       "      <td>1</td>\n",
       "      <td>55.160</td>\n",
       "      <td>98</td>\n",
       "      <td>93</td>\n",
       "      <td>0</td>\n",
       "      <td>0.0</td>\n",
       "      <td>0</td>\n",
       "      <td>0.0000</td>\n",
       "      <td>0</td>\n",
       "      <td>0</td>\n",
       "      <td>726.50</td>\n",
       "      <td>4</td>\n",
       "      <td>1509</td>\n",
       "      <td>0.5464</td>\n",
       "    </tr>\n",
       "    <tr>\n",
       "      <th>13</th>\n",
       "      <td>13</td>\n",
       "      <td>179095</td>\n",
       "      <td>13</td>\n",
       "      <td>0</td>\n",
       "      <td>5</td>\n",
       "      <td>473.40</td>\n",
       "      <td>0</td>\n",
       "      <td>0</td>\n",
       "      <td>3</td>\n",
       "      <td>10</td>\n",
       "      <td>1067</td>\n",
       "      <td>3</td>\n",
       "      <td>1</td>\n",
       "      <td>20.180</td>\n",
       "      <td>92</td>\n",
       "      <td>87</td>\n",
       "      <td>0</td>\n",
       "      <td>0.0</td>\n",
       "      <td>0</td>\n",
       "      <td>0.0000</td>\n",
       "      <td>0</td>\n",
       "      <td>0</td>\n",
       "      <td>3177.00</td>\n",
       "      <td>9</td>\n",
       "      <td>1515</td>\n",
       "      <td>0.8571</td>\n",
       "    </tr>\n",
       "    <tr>\n",
       "      <th>14</th>\n",
       "      <td>14</td>\n",
       "      <td>221693</td>\n",
       "      <td>14</td>\n",
       "      <td>0</td>\n",
       "      <td>0</td>\n",
       "      <td>194.60</td>\n",
       "      <td>1</td>\n",
       "      <td>0</td>\n",
       "      <td>0</td>\n",
       "      <td>93</td>\n",
       "      <td>1115</td>\n",
       "      <td>0</td>\n",
       "      <td>0</td>\n",
       "      <td>0.000</td>\n",
       "      <td>28</td>\n",
       "      <td>27</td>\n",
       "      <td>0</td>\n",
       "      <td>0.0</td>\n",
       "      <td>0</td>\n",
       "      <td>0.7996</td>\n",
       "      <td>0</td>\n",
       "      <td>0</td>\n",
       "      <td>69.93</td>\n",
       "      <td>2</td>\n",
       "      <td>1476</td>\n",
       "      <td>0.0000</td>\n",
       "    </tr>\n",
       "  </tbody>\n",
       "</table>\n",
       "</div>"
      ],
      "text/plain": [
       "    Id  groupId  matchId  assists  boosts  damageDealt  DBNOs  headshotKills  \\\n",
       "0    0       24        0        0       5       247.30      2              0   \n",
       "1    1   440875        1        1       0        37.65      1              1   \n",
       "2    2   878242        2        0       1        93.73      1              0   \n",
       "3    3  1319841        3        0       0        95.88      0              0   \n",
       "4    4  1757883        4        0       1         0.00      0              0   \n",
       "5    5  2200824        5        0       2       128.10      0              0   \n",
       "6    6  2568717        6        1       0       130.30      0              0   \n",
       "7    7  2612473        7        1       1       661.80      2              3   \n",
       "8    8  2656377        8        0       3        94.72      0              0   \n",
       "9    9  2700597        9        0       0       137.60      0              0   \n",
       "10  10    45059       10        0       1       166.00      0              1   \n",
       "11  11    89377       11        0       0       219.10      0              0   \n",
       "12  12   132815       12        0       1       196.50      0              0   \n",
       "13  13   179095       13        0       5       473.40      0              0   \n",
       "14  14   221693       14        0       0       194.60      1              0   \n",
       "\n",
       "    heals  killPlace  killPoints  kills  killStreaks  longestKill  maxPlace  \\\n",
       "0       4         17        1050      2            1       65.320        29   \n",
       "1       0         45        1072      1            1       13.550        26   \n",
       "2       2         54        1404      0            0        0.000        28   \n",
       "3       0         86        1069      0            0        0.000        97   \n",
       "4       1         58        1034      0            0        0.000        47   \n",
       "5       0         25        1000      1            1       27.300        96   \n",
       "6       0         28        1037      1            1        5.954        44   \n",
       "7       2          3        1148      5            2       36.640        46   \n",
       "8       5         50        1286      0            0        0.000        28   \n",
       "9       0         81        1000      0            0        0.000        25   \n",
       "10      1         35        1000      1            1       31.130        98   \n",
       "11      0         63        1180      0            0        0.000        30   \n",
       "12      0         18        1047      2            1       55.160        98   \n",
       "13      3         10        1067      3            1       20.180        92   \n",
       "14      0         93        1115      0            0        0.000        28   \n",
       "\n",
       "    numGroups  revives  rideDistance  roadKills  swimDistance  teamKills  \\\n",
       "0          28        1         591.3          0        0.0000          0   \n",
       "1          23        0           0.0          0        0.0000          0   \n",
       "2          28        1           0.0          0        0.0000          0   \n",
       "3          94        0           0.0          0        0.0000          0   \n",
       "4          41        0           0.0          0        0.0000          0   \n",
       "5          96        0        2221.0          0        0.0000          0   \n",
       "6          40        0         721.7          0        0.0000          0   \n",
       "7          46        0           0.0          0        0.0000          0   \n",
       "8          28        0        2963.0          0       28.9000          0   \n",
       "9          23        0           0.0          0        0.0000          0   \n",
       "10         96        0           0.0          0        0.0000          0   \n",
       "11         29        0           0.0          0        0.0000          0   \n",
       "12         93        0           0.0          0        0.0000          0   \n",
       "13         87        0           0.0          0        0.0000          0   \n",
       "14         27        0           0.0          0        0.7996          0   \n",
       "\n",
       "    vehicleDestroys  walkDistance  weaponsAcquired  winPoints  winPlacePerc  \n",
       "0                 0        782.40                4       1458        0.8571  \n",
       "1                 0        119.60                3       1511        0.0400  \n",
       "2                 0       3248.00                5       1583        0.7407  \n",
       "3                 0         21.49                1       1489        0.1146  \n",
       "4                 0        640.80                4       1475        0.5217  \n",
       "5                 0       1016.00                4       1500        0.9368  \n",
       "6                 0        280.10                3       1495        0.3721  \n",
       "7                 0       2617.00                4       1479        1.0000  \n",
       "8                 0       3139.00                5       1528        0.7037  \n",
       "9                 0        238.70                3       1500        0.0417  \n",
       "10                0        184.50                3       1500        0.4536  \n",
       "11                0       1036.00                5       1533        0.4828  \n",
       "12                0        726.50                4       1509        0.5464  \n",
       "13                0       3177.00                9       1515        0.8571  \n",
       "14                0         69.93                2       1476        0.0000  "
      ]
     },
     "execution_count": 11,
     "metadata": {},
     "output_type": "execute_result"
    }
   ],
   "source": [
    "df.head(15)"
   ]
  },
  {
   "cell_type": "code",
   "execution_count": 7,
   "metadata": {},
   "outputs": [
    {
     "data": {
      "text/plain": [
       "Index(['Id', 'groupId', 'matchId', 'assists', 'boosts', 'damageDealt', 'DBNOs',\n",
       "       'headshotKills', 'heals', 'killPlace', 'killPoints', 'kills',\n",
       "       'killStreaks', 'longestKill', 'maxPlace', 'numGroups', 'revives',\n",
       "       'rideDistance', 'roadKills', 'swimDistance', 'teamKills',\n",
       "       'vehicleDestroys', 'walkDistance', 'weaponsAcquired', 'winPoints',\n",
       "       'winPlacePerc'],\n",
       "      dtype='object')"
      ]
     },
     "execution_count": 7,
     "metadata": {},
     "output_type": "execute_result"
    }
   ],
   "source": [
    "df.columns"
   ]
  },
  {
   "cell_type": "code",
   "execution_count": 14,
   "metadata": {},
   "outputs": [
    {
     "data": {
      "text/plain": [
       "groupId\n",
       "1           1.666667\n",
       "2           0.000000\n",
       "7           3.000000\n",
       "9           0.000000\n",
       "10          0.000000\n",
       "12          0.666667\n",
       "14          0.000000\n",
       "16          0.333333\n",
       "17          0.000000\n",
       "18          0.000000\n",
       "21          0.000000\n",
       "24          6.500000\n",
       "26          1.000000\n",
       "29          2.666667\n",
       "30          1.000000\n",
       "32          3.000000\n",
       "34          0.142857\n",
       "36          0.333333\n",
       "38          1.166667\n",
       "42          0.666667\n",
       "46          0.000000\n",
       "47          0.000000\n",
       "49          0.000000\n",
       "51          0.250000\n",
       "54          1.750000\n",
       "57          4.000000\n",
       "59         10.500000\n",
       "62          0.500000\n",
       "64          0.666667\n",
       "67          0.000000\n",
       "             ...    \n",
       "2700558     5.000000\n",
       "2700559     1.000000\n",
       "2700560     2.333333\n",
       "2700561     0.000000\n",
       "2700562     2.250000\n",
       "2700563     6.000000\n",
       "2700566     0.000000\n",
       "2700567     0.000000\n",
       "2700569     2.000000\n",
       "2700571     0.000000\n",
       "2700572     0.000000\n",
       "2700573     0.666667\n",
       "2700574     0.000000\n",
       "2700575     0.000000\n",
       "2700576     0.000000\n",
       "2700577     1.000000\n",
       "2700578     2.500000\n",
       "2700579     1.000000\n",
       "2700580     5.000000\n",
       "2700584     3.000000\n",
       "2700587     6.000000\n",
       "2700590     0.666667\n",
       "2700591     1.000000\n",
       "2700594     0.000000\n",
       "2700596     0.250000\n",
       "2700597     0.000000\n",
       "2700598     0.142857\n",
       "2700600     8.500000\n",
       "2700603     1.500000\n",
       "2700605     1.000000\n",
       "Name: heals, Length: 893875, dtype: float64"
      ]
     },
     "execution_count": 14,
     "metadata": {},
     "output_type": "execute_result"
    }
   ],
   "source": [
    "# aggregation test. groupId is a player team ID, and winPlacePerc is based on the team's best-performing member.\n",
    "df.groupby(['groupId'])['heals'].mean()\n",
    "\n",
    "# should explore features for maximum values among players in your team\n",
    "# (Ex; team's max walk distance, team's max killplace)"
   ]
  },
  {
   "cell_type": "code",
   "execution_count": 16,
   "metadata": {},
   "outputs": [
    {
     "data": {
      "text/plain": [
       "<matplotlib.axes._subplots.AxesSubplot at 0x1a15351b70>"
      ]
     },
     "execution_count": 16,
     "metadata": {},
     "output_type": "execute_result"
    },
    {
     "data": {
      "image/png": "[encoded data removed]",
      "text/plain": [
       "<Figure size 1008x720 with 2 Axes>"
      ]
     },
     "metadata": {},
     "output_type": "display_data"
    }
   ],
   "source": [
    "fig, ax = plt.subplots(figsize=(14,10)) \n",
    "sns.heatmap(df.corr())"
   ]
  },
  {
   "cell_type": "code",
   "execution_count": 36,
   "metadata": {},
   "outputs": [],
   "source": [
    "rdg = Ridge()\n",
    "X = df.drop('winPlacePerc', axis=1)\n",
    "y = df['winPlacePerc']"
   ]
  },
  {
   "cell_type": "code",
   "execution_count": 37,
   "metadata": {},
   "outputs": [],
   "source": [
    "X_train, X_test, y_train, y_test = train_test_split(X, y, random_state=42)"
   ]
  },
  {
   "cell_type": "code",
   "execution_count": 19,
   "metadata": {},
   "outputs": [
    {
     "name": "stdout",
     "output_type": "stream",
     "text": [
      "2018-10-10 15:32:46.212796\n",
      "2018-10-10 15:33:43.240582\n"
     ]
    }
   ],
   "source": [
    "print(datetime.datetime.now())\n",
    "rdg.fit(X_train, y_train)\n",
    "print(datetime.datetime.now())"
   ]
  },
  {
   "cell_type": "code",
   "execution_count": 20,
   "metadata": {},
   "outputs": [],
   "source": [
    "y_pred = rdg.predict(X_test)"
   ]
  },
  {
   "cell_type": "code",
   "execution_count": 21,
   "metadata": {},
   "outputs": [
    {
     "data": {
      "text/plain": [
       "0.7922234021624289"
      ]
     },
     "execution_count": 21,
     "metadata": {},
     "output_type": "execute_result"
    }
   ],
   "source": [
    "rdg.score(X_test, y_test)"
   ]
  },
  {
   "cell_type": "code",
   "execution_count": 23,
   "metadata": {},
   "outputs": [],
   "source": [
    "gbr = GradientBoostingRegressor()"
   ]
  },
  {
   "cell_type": "code",
   "execution_count": 24,
   "metadata": {},
   "outputs": [
    {
     "name": "stdout",
     "output_type": "stream",
     "text": [
      "2018-10-10 15:33:51.935794\n",
      "2018-10-10 15:41:03.032543\n"
     ]
    }
   ],
   "source": [
    "print(datetime.datetime.now())\n",
    "gbr.fit(X_train, y_train)\n",
    "print(datetime.datetime.now())"
   ]
  },
  {
   "cell_type": "code",
   "execution_count": 25,
   "metadata": {},
   "outputs": [
    {
     "data": {
      "text/plain": [
       "0.872694449938445"
      ]
     },
     "execution_count": 25,
     "metadata": {},
     "output_type": "execute_result"
    }
   ],
   "source": [
    "gbr.score(X_test, y_test)"
   ]
  },
  {
   "cell_type": "code",
   "execution_count": 26,
   "metadata": {},
   "outputs": [],
   "source": [
    "fi = gbr.feature_importances_"
   ]
  },
  {
   "cell_type": "code",
   "execution_count": 27,
   "metadata": {},
   "outputs": [],
   "source": [
    "names = X_test.columns"
   ]
  },
  {
   "cell_type": "code",
   "execution_count": 28,
   "metadata": {},
   "outputs": [
    {
     "data": {
      "text/plain": [
       "[('Id', 0.0),\n",
       " ('groupId', 0.0),\n",
       " ('matchId', 0.0),\n",
       " ('headshotKills', 0.0),\n",
       " ('roadKills', 0.0),\n",
       " ('vehicleDestroys', 0.0),\n",
       " ('damageDealt', 0.00019364160082873262),\n",
       " ('teamKills', 0.002653089375942816),\n",
       " ('killPoints', 0.003863755155717219),\n",
       " ('rideDistance', 0.004525396112893932),\n",
       " ('revives', 0.006004524059799602),\n",
       " ('longestKill', 0.006337313134963281),\n",
       " ('swimDistance', 0.007508602394452391),\n",
       " ('heals', 0.009730957866406684),\n",
       " ('weaponsAcquired', 0.012884327361752592),\n",
       " ('DBNOs', 0.015962874634683093),\n",
       " ('winPoints', 0.018904204508595833),\n",
       " ('boosts', 0.028954451458239872),\n",
       " ('assists', 0.03030774882632564),\n",
       " ('killStreaks', 0.05298458580752392),\n",
       " ('kills', 0.06766201593591352),\n",
       " ('maxPlace', 0.0926044107581247),\n",
       " ('numGroups', 0.1270976027483637),\n",
       " ('walkDistance', 0.24409062851253577),\n",
       " ('killPlace', 0.26772986974693674)]"
      ]
     },
     "execution_count": 28,
     "metadata": {},
     "output_type": "execute_result"
    }
   ],
   "source": [
    "sorted(list(zip(names, fi)), key=lambda x: x[1])"
   ]
  },
  {
   "cell_type": "code",
   "execution_count": 28,
   "metadata": {},
   "outputs": [],
   "source": [
    "from xgboost import XGBRegressor"
   ]
  },
  {
   "cell_type": "code",
   "execution_count": 29,
   "metadata": {},
   "outputs": [],
   "source": [
    "xgb = XGBRegressor()"
   ]
  },
  {
   "cell_type": "code",
   "execution_count": 31,
   "metadata": {},
   "outputs": [
    {
     "name": "stdout",
     "output_type": "stream",
     "text": [
      "2018-10-10 15:41:04.691747\n",
      "2018-10-10 15:44:07.265739\n"
     ]
    }
   ],
   "source": [
    "print(datetime.datetime.now())\n",
    "xgb.fit(X_train, y_train)\n",
    "print(datetime.datetime.now())"
   ]
  },
  {
   "cell_type": "code",
   "execution_count": 32,
   "metadata": {},
   "outputs": [
    {
     "data": {
      "text/plain": [
       "0.8726929199457596"
      ]
     },
     "execution_count": 32,
     "metadata": {},
     "output_type": "execute_result"
    }
   ],
   "source": [
    "xgb.score(X_test, y_test)"
   ]
  },
  {
   "cell_type": "code",
   "execution_count": 39,
   "metadata": {},
   "outputs": [
    {
     "name": "stdout",
     "output_type": "stream",
     "text": [
      "2018-10-12 17:35:47.248113\n",
      "2018-10-12 17:46:10.543253\n"
     ]
    }
   ],
   "source": [
    "print(datetime.datetime.now())\n",
    "xgb.fit(X_train, y_train)\n",
    "print(datetime.datetime.now()) #all data"
   ]
  },
  {
   "cell_type": "code",
   "execution_count": 40,
   "metadata": {},
   "outputs": [
    {
     "data": {
      "text/plain": [
       "0.8861334378226031"
      ]
     },
     "execution_count": 40,
     "metadata": {},
     "output_type": "execute_result"
    }
   ],
   "source": [
    "xgb.score(X_test, y_test) # all data"
   ]
  },
  {
   "cell_type": "code",
   "execution_count": 42,
   "metadata": {},
   "outputs": [
    {
     "data": {
      "text/plain": [
       "0.8866170834436402"
      ]
     },
     "execution_count": 42,
     "metadata": {},
     "output_type": "execute_result"
    }
   ],
   "source": [
    "xgb.score(X_train, y_train)"
   ]
  },
  {
   "cell_type": "code",
   "execution_count": 44,
   "metadata": {},
   "outputs": [
    {
     "data": {
      "text/plain": [
       "0.8861334378226031"
      ]
     },
     "execution_count": 44,
     "metadata": {},
     "output_type": "execute_result"
    }
   ],
   "source": [
    "from sklearn.metrics import r2_score\n",
    "y_pred = xgb.predict(X_test)\n",
    "r2_score(y_test, y_pred)"
   ]
  },
  {
   "cell_type": "code",
   "execution_count": 31,
   "metadata": {},
   "outputs": [],
   "source": [
    "X = df.drop(['Id','groupId','matchId','headshotKills','roadKills','vehicleDestroys','winPlacePerc'], axis=1)\n",
    "y = df['winPlacePerc']"
   ]
  },
  {
   "cell_type": "code",
   "execution_count": 41,
   "metadata": {},
   "outputs": [
    {
     "data": {
      "text/html": [
       "<div>\n",
       "<style scoped>\n",
       "    .dataframe tbody tr th:only-of-type {\n",
       "        vertical-align: middle;\n",
       "    }\n",
       "\n",
       "    .dataframe tbody tr th {\n",
       "        vertical-align: top;\n",
       "    }\n",
       "\n",
       "    .dataframe thead th {\n",
       "        text-align: right;\n",
       "    }\n",
       "</style>\n",
       "<table border=\"1\" class=\"dataframe\">\n",
       "  <thead>\n",
       "    <tr style=\"text-align: right;\">\n",
       "      <th></th>\n",
       "      <th>Id</th>\n",
       "      <th>groupId</th>\n",
       "      <th>matchId</th>\n",
       "      <th>assists</th>\n",
       "      <th>boosts</th>\n",
       "      <th>damageDealt</th>\n",
       "      <th>DBNOs</th>\n",
       "      <th>headshotKills</th>\n",
       "      <th>heals</th>\n",
       "      <th>killPlace</th>\n",
       "      <th>killPoints</th>\n",
       "      <th>kills</th>\n",
       "      <th>killStreaks</th>\n",
       "      <th>longestKill</th>\n",
       "      <th>maxPlace</th>\n",
       "      <th>numGroups</th>\n",
       "      <th>revives</th>\n",
       "      <th>rideDistance</th>\n",
       "      <th>roadKills</th>\n",
       "      <th>swimDistance</th>\n",
       "      <th>teamKills</th>\n",
       "      <th>vehicleDestroys</th>\n",
       "      <th>walkDistance</th>\n",
       "      <th>weaponsAcquired</th>\n",
       "      <th>winPoints</th>\n",
       "    </tr>\n",
       "  </thead>\n",
       "  <tbody>\n",
       "    <tr>\n",
       "      <th>0</th>\n",
       "      <td>0</td>\n",
       "      <td>24</td>\n",
       "      <td>0</td>\n",
       "      <td>0</td>\n",
       "      <td>5</td>\n",
       "      <td>247.30</td>\n",
       "      <td>2</td>\n",
       "      <td>0</td>\n",
       "      <td>4</td>\n",
       "      <td>17</td>\n",
       "      <td>1050</td>\n",
       "      <td>2</td>\n",
       "      <td>1</td>\n",
       "      <td>65.32</td>\n",
       "      <td>29</td>\n",
       "      <td>28</td>\n",
       "      <td>1</td>\n",
       "      <td>591.3</td>\n",
       "      <td>0</td>\n",
       "      <td>0.0</td>\n",
       "      <td>0</td>\n",
       "      <td>0</td>\n",
       "      <td>782.40</td>\n",
       "      <td>4</td>\n",
       "      <td>1458</td>\n",
       "    </tr>\n",
       "    <tr>\n",
       "      <th>1</th>\n",
       "      <td>1</td>\n",
       "      <td>440875</td>\n",
       "      <td>1</td>\n",
       "      <td>1</td>\n",
       "      <td>0</td>\n",
       "      <td>37.65</td>\n",
       "      <td>1</td>\n",
       "      <td>1</td>\n",
       "      <td>0</td>\n",
       "      <td>45</td>\n",
       "      <td>1072</td>\n",
       "      <td>1</td>\n",
       "      <td>1</td>\n",
       "      <td>13.55</td>\n",
       "      <td>26</td>\n",
       "      <td>23</td>\n",
       "      <td>0</td>\n",
       "      <td>0.0</td>\n",
       "      <td>0</td>\n",
       "      <td>0.0</td>\n",
       "      <td>0</td>\n",
       "      <td>0</td>\n",
       "      <td>119.60</td>\n",
       "      <td>3</td>\n",
       "      <td>1511</td>\n",
       "    </tr>\n",
       "    <tr>\n",
       "      <th>2</th>\n",
       "      <td>2</td>\n",
       "      <td>878242</td>\n",
       "      <td>2</td>\n",
       "      <td>0</td>\n",
       "      <td>1</td>\n",
       "      <td>93.73</td>\n",
       "      <td>1</td>\n",
       "      <td>0</td>\n",
       "      <td>2</td>\n",
       "      <td>54</td>\n",
       "      <td>1404</td>\n",
       "      <td>0</td>\n",
       "      <td>0</td>\n",
       "      <td>0.00</td>\n",
       "      <td>28</td>\n",
       "      <td>28</td>\n",
       "      <td>1</td>\n",
       "      <td>0.0</td>\n",
       "      <td>0</td>\n",
       "      <td>0.0</td>\n",
       "      <td>0</td>\n",
       "      <td>0</td>\n",
       "      <td>3248.00</td>\n",
       "      <td>5</td>\n",
       "      <td>1583</td>\n",
       "    </tr>\n",
       "    <tr>\n",
       "      <th>3</th>\n",
       "      <td>3</td>\n",
       "      <td>1319841</td>\n",
       "      <td>3</td>\n",
       "      <td>0</td>\n",
       "      <td>0</td>\n",
       "      <td>95.88</td>\n",
       "      <td>0</td>\n",
       "      <td>0</td>\n",
       "      <td>0</td>\n",
       "      <td>86</td>\n",
       "      <td>1069</td>\n",
       "      <td>0</td>\n",
       "      <td>0</td>\n",
       "      <td>0.00</td>\n",
       "      <td>97</td>\n",
       "      <td>94</td>\n",
       "      <td>0</td>\n",
       "      <td>0.0</td>\n",
       "      <td>0</td>\n",
       "      <td>0.0</td>\n",
       "      <td>0</td>\n",
       "      <td>0</td>\n",
       "      <td>21.49</td>\n",
       "      <td>1</td>\n",
       "      <td>1489</td>\n",
       "    </tr>\n",
       "    <tr>\n",
       "      <th>4</th>\n",
       "      <td>4</td>\n",
       "      <td>1757883</td>\n",
       "      <td>4</td>\n",
       "      <td>0</td>\n",
       "      <td>1</td>\n",
       "      <td>0.00</td>\n",
       "      <td>0</td>\n",
       "      <td>0</td>\n",
       "      <td>1</td>\n",
       "      <td>58</td>\n",
       "      <td>1034</td>\n",
       "      <td>0</td>\n",
       "      <td>0</td>\n",
       "      <td>0.00</td>\n",
       "      <td>47</td>\n",
       "      <td>41</td>\n",
       "      <td>0</td>\n",
       "      <td>0.0</td>\n",
       "      <td>0</td>\n",
       "      <td>0.0</td>\n",
       "      <td>0</td>\n",
       "      <td>0</td>\n",
       "      <td>640.80</td>\n",
       "      <td>4</td>\n",
       "      <td>1475</td>\n",
       "    </tr>\n",
       "  </tbody>\n",
       "</table>\n",
       "</div>"
      ],
      "text/plain": [
       "   Id  groupId  matchId  assists  boosts  damageDealt  DBNOs  headshotKills  \\\n",
       "0   0       24        0        0       5       247.30      2              0   \n",
       "1   1   440875        1        1       0        37.65      1              1   \n",
       "2   2   878242        2        0       1        93.73      1              0   \n",
       "3   3  1319841        3        0       0        95.88      0              0   \n",
       "4   4  1757883        4        0       1         0.00      0              0   \n",
       "\n",
       "   heals  killPlace  killPoints  kills  killStreaks  longestKill  maxPlace  \\\n",
       "0      4         17        1050      2            1        65.32        29   \n",
       "1      0         45        1072      1            1        13.55        26   \n",
       "2      2         54        1404      0            0         0.00        28   \n",
       "3      0         86        1069      0            0         0.00        97   \n",
       "4      1         58        1034      0            0         0.00        47   \n",
       "\n",
       "   numGroups  revives  rideDistance  roadKills  swimDistance  teamKills  \\\n",
       "0         28        1         591.3          0           0.0          0   \n",
       "1         23        0           0.0          0           0.0          0   \n",
       "2         28        1           0.0          0           0.0          0   \n",
       "3         94        0           0.0          0           0.0          0   \n",
       "4         41        0           0.0          0           0.0          0   \n",
       "\n",
       "   vehicleDestroys  walkDistance  weaponsAcquired  winPoints  \n",
       "0                0        782.40                4       1458  \n",
       "1                0        119.60                3       1511  \n",
       "2                0       3248.00                5       1583  \n",
       "3                0         21.49                1       1489  \n",
       "4                0        640.80                4       1475  "
      ]
     },
     "execution_count": 41,
     "metadata": {},
     "output_type": "execute_result"
    }
   ],
   "source": [
    "X.head()"
   ]
  },
  {
   "cell_type": "code",
   "execution_count": 33,
   "metadata": {},
   "outputs": [],
   "source": [
    "X_train, X_test, y_train, y_test = train_test_split(X, y, random_state=42)"
   ]
  },
  {
   "cell_type": "code",
   "execution_count": 34,
   "metadata": {},
   "outputs": [
    {
     "name": "stdout",
     "output_type": "stream",
     "text": [
      "2018-10-12 17:22:03.279214\n",
      "2018-10-12 17:29:46.911151\n"
     ]
    }
   ],
   "source": [
    "print(datetime.datetime.now())\n",
    "xgb.fit(X_train, y_train)\n",
    "print(datetime.datetime.now())"
   ]
  },
  {
   "cell_type": "code",
   "execution_count": 35,
   "metadata": {},
   "outputs": [
    {
     "data": {
      "text/plain": [
       "0.8861334378226031"
      ]
     },
     "execution_count": 35,
     "metadata": {},
     "output_type": "execute_result"
    }
   ],
   "source": [
    "xgb.score(X_test, y_test)"
   ]
  },
  {
   "cell_type": "code",
   "execution_count": 51,
   "metadata": {},
   "outputs": [
    {
     "data": {
      "text/plain": [
       "0.7852287236155243"
      ]
     },
     "execution_count": 51,
     "metadata": {},
     "output_type": "execute_result"
    }
   ],
   "source": [
    "r = xgb.score(X_test, y_test)\n",
    "n = len(y_test)\n",
    "k = 19\n",
    "1-((1-r*r)*(n-1)/(n-k-1))\n"
   ]
  },
  {
   "cell_type": "code",
   "execution_count": null,
   "metadata": {},
   "outputs": [],
   "source": []
  }
 ],
 "metadata": {
  "kernelspec": {
   "display_name": "Python 3",
   "language": "python",
   "name": "python3"
  },
  "language_info": {
   "codemirror_mode": {
    "name": "ipython",
    "version": 3
   },
   "file_extension": ".py",
   "mimetype": "text/x-python",
   "name": "python",
   "nbconvert_exporter": "python",
   "pygments_lexer": "ipython3",
   "version": "3.6.5"
  }
 },
 "nbformat": 4,
 "nbformat_minor": 2
}
